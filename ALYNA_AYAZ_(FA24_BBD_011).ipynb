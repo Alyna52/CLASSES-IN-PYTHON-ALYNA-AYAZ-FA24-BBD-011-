{
  "nbformat": 4,
  "nbformat_minor": 0,
  "metadata": {
    "colab": {
      "provenance": [],
      "authorship_tag": "ABX9TyPCFs7uydFoOb8f9EdTFLWe",
      "include_colab_link": true
    },
    "kernelspec": {
      "name": "python3",
      "display_name": "Python 3"
    },
    "language_info": {
      "name": "python"
    }
  },
  "cells": [
    {
      "cell_type": "markdown",
      "metadata": {
        "id": "view-in-github",
        "colab_type": "text"
      },
      "source": [
        "<a href=\"https://colab.research.google.com/github/Alyna52/CLASSES-IN-PYTHON-ALYNA-AYAZ-FA24-BBD-011-/blob/main/ALYNA_AYAZ_(FA24_BBD_011).ipynb\" target=\"_parent\"><img src=\"https://colab.research.google.com/assets/colab-badge.svg\" alt=\"Open In Colab\"/></a>"
      ]
    },
    {
      "cell_type": "code",
      "execution_count": 2,
      "metadata": {
        "colab": {
          "base_uri": "https://localhost:8080/"
        },
        "id": "UaOj5yfR4_8z",
        "outputId": "f80ff351-ff0e-44c4-d616-c834a9298fac"
      },
      "outputs": [
        {
          "output_type": "stream",
          "name": "stdout",
          "text": [
            "<class 'pandas.core.frame.DataFrame'>\n",
            "RangeIndex: 13580 entries, 0 to 13579\n",
            "Data columns (total 19 columns):\n",
            " #   Column         Non-Null Count  Dtype  \n",
            "---  ------         --------------  -----  \n",
            " 0   Suburb         13580 non-null  object \n",
            " 1   Address        13580 non-null  object \n",
            " 2   Rooms          13580 non-null  int64  \n",
            " 3   Type           13580 non-null  object \n",
            " 4   Price          13580 non-null  int64  \n",
            " 5   Method         13580 non-null  object \n",
            " 6   SellerG        13580 non-null  object \n",
            " 7   Date           13580 non-null  object \n",
            " 8   Distance       13580 non-null  float64\n",
            " 9   Postcode       13580 non-null  int64  \n",
            " 10  Bedroom2       13580 non-null  int64  \n",
            " 11  Bathroom       13580 non-null  int64  \n",
            " 12  Car            13580 non-null  float64\n",
            " 13  Landsize       13580 non-null  int64  \n",
            " 14  CouncilArea    13580 non-null  object \n",
            " 15  Lattitude      13580 non-null  float64\n",
            " 16  Longtitude     13580 non-null  float64\n",
            " 17  Regionname     13580 non-null  object \n",
            " 18  Propertycount  13580 non-null  int64  \n",
            "dtypes: float64(4), int64(7), object(8)\n",
            "memory usage: 2.0+ MB\n"
          ]
        },
        {
          "output_type": "stream",
          "name": "stderr",
          "text": [
            "<ipython-input-2-9114bb8ccb9e>:20: FutureWarning: A value is trying to be set on a copy of a DataFrame or Series through chained assignment using an inplace method.\n",
            "The behavior will change in pandas 3.0. This inplace method will never work because the intermediate object on which we are setting values always behaves as a copy.\n",
            "\n",
            "For example, when doing 'df[col].method(value, inplace=True)', try using 'df.method({col: value}, inplace=True)' or df[col] = df[col].method(value) instead, to perform the operation inplace on the original object.\n",
            "\n",
            "\n",
            "  df[col].fillna(df[col].mode()[0], inplace=True)\n"
          ]
        }
      ],
      "source": [
        "#TASK ONE:\n",
        "\n",
        "import pandas as pd\n",
        "\n",
        "df = pd.read_csv(\"melb_data.csv\")\n",
        "\n",
        "missing_values = df.isna().sum()\n",
        "\n",
        "missing_percent = (missing_values/len(df)) * 100\n",
        "\n",
        "columns_to_drop = missing_percent[missing_percent > 20].index.tolist()\n",
        "\n",
        "df.drop(columns=columns_to_drop, inplace=True)\n",
        "\n",
        "numerical_cols = df.select_dtypes(include=['number']).columns\n",
        "df[numerical_cols] = df[numerical_cols].fillna(df[numerical_cols].median())\n",
        "\n",
        "categorical_cols = df.select_dtypes(include=['object']).columns\n",
        "for col in categorical_cols:\n",
        "    df[col].fillna(df[col].mode()[0], inplace=True)\n",
        "\n",
        "df.info()\n",
        "\n",
        "\n",
        "\n"
      ]
    },
    {
      "cell_type": "code",
      "source": [
        "#TASK TWO:\n",
        "\n",
        "import pandas as pd\n",
        "\n",
        "df = pd.read_csv(\"melb_data.csv\")\n",
        "richmond_houses = df[(df[\"Suburb\"] == \"Richmond\") & (df[\"Price\"] >1000000)]\n",
        "print(\"Properties in Richmond with a price greater than 1000000 are:\")\n",
        "print(richmond_houses.head())\n",
        "\n",
        "df_filtered = df.loc[df[\"Landsize\"] > 500, [\"Price\", \"Suburb\", \"BuildingArea\"]]\n",
        "print(df_filtered.head())\n",
        "\n",
        "df_sorted = df.sort_values(by= \"Price\", ascending= False)\n",
        "print(\"five most expensive houses are:\")\n",
        "print(df_sorted.head())"
      ],
      "metadata": {
        "colab": {
          "base_uri": "https://localhost:8080/"
        },
        "id": "rL8D4uFC5faY",
        "outputId": "edd63222-e70e-4b7f-9a73-96c9f75b47fc"
      },
      "execution_count": 5,
      "outputs": [
        {
          "output_type": "stream",
          "name": "stdout",
          "text": [
            "Properties in Richmond with a price greater than 1000000 are:\n",
            "        Suburb          Address  Rooms Type    Price Method        SellerG  \\\n",
            "5257  Richmond       81 Erin St      3    h  1260000      S         Biggin   \n",
            "5258  Richmond  52 Lyndhurst St      3    t  1236000      S         Jellis   \n",
            "5263  Richmond        7 Bank St      3    h  1600000      S  hockingstuart   \n",
            "5264  Richmond      29 Bowen St      3    h  2180000     PI           Blue   \n",
            "5266  Richmond      131 Lord St      4    h  3335000      S         Jellis   \n",
            "\n",
            "           Date  Distance  Postcode  ...  Bathroom  Car  Landsize  \\\n",
            "5257   3/9/2016       2.6      3121  ...         1  0.0       203   \n",
            "5258   3/9/2016       2.6      3121  ...         2  1.0       675   \n",
            "5263  3/12/2016       2.6      3121  ...         2  1.0       115   \n",
            "5264  3/12/2016       2.6      3121  ...         2  2.0       345   \n",
            "5266  3/12/2016       2.6      3121  ...         2  2.0       319   \n",
            "\n",
            "      BuildingArea  YearBuilt  CouncilArea Lattitude  Longtitude  \\\n",
            "5257          81.0     1900.0        Yarra  -37.8166    144.9945   \n",
            "5258           NaN        NaN        Yarra  -37.8206    145.0003   \n",
            "5263           NaN        NaN        Yarra  -37.8163    144.9984   \n",
            "5264           NaN        NaN        Yarra  -37.8159    144.9940   \n",
            "5266           NaN     1893.0        Yarra  -37.8244    145.0044   \n",
            "\n",
            "                 Regionname Propertycount  \n",
            "5257  Northern Metropolitan         14949  \n",
            "5258  Northern Metropolitan         14949  \n",
            "5263  Northern Metropolitan         14949  \n",
            "5264  Northern Metropolitan         14949  \n",
            "5266  Northern Metropolitan         14949  \n",
            "\n",
            "[5 rows x 21 columns]\n",
            "      Price        Suburb  BuildingArea\n",
            "20  1330000    Abbotsford         135.0\n",
            "22  1090000    Abbotsford          27.0\n",
            "45   720000  Airport West           NaN\n",
            "46   785000  Airport West         127.0\n",
            "47   725000  Airport West         186.0\n",
            "five most expensive houses are:\n",
            "            Suburb         Address  Rooms Type    Price Method       SellerG  \\\n",
            "12094     Mulgrave     35 Bevis St      3    h  9000000     PI          Hall   \n",
            "7692    Canterbury  49 Mangarra Rd      5    h  8000000     VB     Sotheby's   \n",
            "9575      Hawthorn    49 Lisson Gr      4    h  7650000      S  Abercromby's   \n",
            "3616           Kew     15 Barry St      6    h  6500000      S        Jellis   \n",
            "12557  Middle Park     136 Page St      5    h  6400000      S      Marshall   \n",
            "\n",
            "             Date  Distance  Postcode  ...  Bathroom  Car  Landsize  \\\n",
            "12094  29/07/2017      18.8      3170  ...         1  1.0       744   \n",
            "7692   13/05/2017       9.0      3126  ...         5  4.0      2079   \n",
            "9575   17/06/2017       5.3      3122  ...         2  4.0      1690   \n",
            "3616   13/08/2016       5.6      3101  ...         6  3.0      1334   \n",
            "12557    9/9/2017       3.0      3206  ...         2  1.0       553   \n",
            "\n",
            "       BuildingArea  YearBuilt  CouncilArea Lattitude  Longtitude  \\\n",
            "12094         117.0     1960.0       Monash -37.93168   145.16126   \n",
            "7692          464.3     1880.0   Boroondara -37.81790   145.06940   \n",
            "9575          284.0     1863.0   Boroondara -37.82652   145.03052   \n",
            "3616          365.0     1890.0   Boroondara -37.80290   145.02670   \n",
            "12557         308.0     1920.0          NaN -37.84908   144.95753   \n",
            "\n",
            "                       Regionname Propertycount  \n",
            "12094  South-Eastern Metropolitan          7113  \n",
            "7692        Southern Metropolitan          3265  \n",
            "9575        Southern Metropolitan         11308  \n",
            "3616        Southern Metropolitan         10331  \n",
            "12557       Southern Metropolitan          2019  \n",
            "\n",
            "[5 rows x 21 columns]\n"
          ]
        }
      ]
    },
    {
      "cell_type": "code",
      "source": [
        "#TASK THREE:\n",
        "\n",
        "if \"Price\" in df.columns and \"Rooms\" in df.columns:\n",
        "    df[\"Price_per_Room\"] = df[\"Price\"] / df[\"Rooms\"]\n",
        "\n",
        "if \"Date\" in df.columns:\n",
        "    df[\"Date\"] = pd.to_datetime(df[\"Date\"], errors='coerce')\n",
        "    df.dropna(subset=[\"Date\"], inplace=True)\n",
        "    df[\"Year_Sold\"] = df[\"Date\"].dt.year"
      ],
      "metadata": {
        "id": "cIzDG8u9-Mq3"
      },
      "execution_count": 10,
      "outputs": []
    },
    {
      "cell_type": "code",
      "source": [
        "#TASK FOUR:\n",
        "\n",
        "import pandas as pd\n",
        "\n",
        "\n",
        "df = pd.read_csv(\"melb_data.csv\")\n",
        "\n",
        "suburb_avg_price = df.groupby(\"Suburb\")[\"Price\"].mean()\n",
        "print(\"Average price per suburb:\")\n",
        "print(suburb_avg_price)\n",
        "\n",
        "properties_per_suburb = df.groupby(\"Suburb\")[\"Price\"].count()\n",
        "print(\"\\nTotal properties sold per suburb:\")\n",
        "print(properties_per_suburb)\n",
        "\n",
        "most_expensive_suburb = suburb_avg_price.idxmax()\n",
        "print(\"\\nMost expensive suburb:\", most_expensive_suburb)"
      ],
      "metadata": {
        "colab": {
          "base_uri": "https://localhost:8080/"
        },
        "id": "UGdl8FHG_uD0",
        "outputId": "4e432701-2ebc-4cdc-d350-2b46ef53e564"
      },
      "execution_count": 11,
      "outputs": [
        {
          "output_type": "stream",
          "name": "stdout",
          "text": [
            "Average price per suburb:\n",
            "Suburb\n",
            "Abbotsford      1.060366e+06\n",
            "Aberfeldie      1.277455e+06\n",
            "Airport West    7.566567e+05\n",
            "Albanvale       5.370833e+05\n",
            "Albert Park     1.941355e+06\n",
            "                    ...     \n",
            "Wonga Park      9.000000e+05\n",
            "Wyndham Vale    4.832500e+05\n",
            "Yallambie       8.396875e+05\n",
            "Yarra Glen      6.200000e+05\n",
            "Yarraville      9.886155e+05\n",
            "Name: Price, Length: 314, dtype: float64\n",
            "\n",
            "Total properties sold per suburb:\n",
            "Suburb\n",
            "Abbotsford       56\n",
            "Aberfeldie       44\n",
            "Airport West     67\n",
            "Albanvale         6\n",
            "Albert Park      69\n",
            "               ... \n",
            "Wonga Park        1\n",
            "Wyndham Vale      4\n",
            "Yallambie        24\n",
            "Yarra Glen        1\n",
            "Yarraville      164\n",
            "Name: Price, Length: 314, dtype: int64\n",
            "\n",
            "Most expensive suburb: Kooyong\n"
          ]
        }
      ]
    },
    {
      "cell_type": "code",
      "source": [
        "#TASK FIVE:\n",
        "\n",
        "df.to_csv(\"cleaned_melb_data.csv\", index=False)\n",
        "profile = ProfileReport(df, title=\"Pandas Profiling Report\", explorative=True)\n",
        "profile.to_file(\"pandas_profiling_report.html\")"
      ],
      "metadata": {
        "colab": {
          "base_uri": "https://localhost:8080/",
          "height": 193
        },
        "id": "3hccolzqCkEM",
        "outputId": "9f439b17-9fdb-454f-e467-aa5877b0f504"
      },
      "execution_count": 12,
      "outputs": [
        {
          "output_type": "error",
          "ename": "NameError",
          "evalue": "name 'ProfileReport' is not defined",
          "traceback": [
            "\u001b[0;31m---------------------------------------------------------------------------\u001b[0m",
            "\u001b[0;31mNameError\u001b[0m                                 Traceback (most recent call last)",
            "\u001b[0;32m<ipython-input-12-a6fdcbc3fe89>\u001b[0m in \u001b[0;36m<cell line: 0>\u001b[0;34m()\u001b[0m\n\u001b[1;32m      2\u001b[0m \u001b[0;34m\u001b[0m\u001b[0m\n\u001b[1;32m      3\u001b[0m \u001b[0mdf\u001b[0m\u001b[0;34m.\u001b[0m\u001b[0mto_csv\u001b[0m\u001b[0;34m(\u001b[0m\u001b[0;34m\"cleaned_melb_data.csv\"\u001b[0m\u001b[0;34m,\u001b[0m \u001b[0mindex\u001b[0m\u001b[0;34m=\u001b[0m\u001b[0;32mFalse\u001b[0m\u001b[0;34m)\u001b[0m\u001b[0;34m\u001b[0m\u001b[0;34m\u001b[0m\u001b[0m\n\u001b[0;32m----> 4\u001b[0;31m \u001b[0mprofile\u001b[0m \u001b[0;34m=\u001b[0m \u001b[0mProfileReport\u001b[0m\u001b[0;34m(\u001b[0m\u001b[0mdf\u001b[0m\u001b[0;34m,\u001b[0m \u001b[0mtitle\u001b[0m\u001b[0;34m=\u001b[0m\u001b[0;34m\"Pandas Profiling Report\"\u001b[0m\u001b[0;34m,\u001b[0m \u001b[0mexplorative\u001b[0m\u001b[0;34m=\u001b[0m\u001b[0;32mTrue\u001b[0m\u001b[0;34m)\u001b[0m\u001b[0;34m\u001b[0m\u001b[0;34m\u001b[0m\u001b[0m\n\u001b[0m\u001b[1;32m      5\u001b[0m \u001b[0mprofile\u001b[0m\u001b[0;34m.\u001b[0m\u001b[0mto_file\u001b[0m\u001b[0;34m(\u001b[0m\u001b[0;34m\"pandas_profiling_report.html\"\u001b[0m\u001b[0;34m)\u001b[0m\u001b[0;34m\u001b[0m\u001b[0;34m\u001b[0m\u001b[0m\n",
            "\u001b[0;31mNameError\u001b[0m: name 'ProfileReport' is not defined"
          ]
        }
      ]
    },
    {
      "cell_type": "code",
      "source": [
        "median_price = df[\"Price\"].median()\n",
        "df[\"Category\"] = df[\"Price\"].apply(lambda x: \"Expensive\" if x > median_price else \"Affordable\")\n",
        "correlation = df[[\"Price\", \"Rooms\"]].corr()\n",
        ""
      ],
      "metadata": {
        "id": "3n9gBEqfDA_b"
      },
      "execution_count": null,
      "outputs": []
    }
  ]
}